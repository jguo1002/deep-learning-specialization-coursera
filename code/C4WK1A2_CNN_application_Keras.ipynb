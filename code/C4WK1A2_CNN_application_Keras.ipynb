{
  "nbformat": 4,
  "nbformat_minor": 0,
  "metadata": {
    "colab": {
      "provenance": []
    },
    "kernelspec": {
      "name": "python3",
      "display_name": "Python 3"
    },
    "language_info": {
      "name": "python"
    }
  },
  "cells": [
    {
      "cell_type": "markdown",
      "source": [
        "Goal: \n",
        "1. Create a mood classifier with TF Keras Sequential API\n",
        "2. Build a CNN to identify sign language with TF Keras Functional API"
      ],
      "metadata": {
        "id": "LVsBTDcqBgiV"
      }
    },
    {
      "cell_type": "code",
      "execution_count": 1,
      "metadata": {
        "colab": {
          "base_uri": "https://localhost:8080/"
        },
        "id": "NtBQPvYuBW6X",
        "outputId": "213ea1f7-a0a5-4113-c342-9a9498c6dc35"
      },
      "outputs": [
        {
          "output_type": "stream",
          "name": "stdout",
          "text": [
            "Mounted at /gdrive\n",
            "/gdrive/My Drive/Coursera/Coursera_DeepLearningSpecialization/course4_coding_assignments/W1A2\n"
          ]
        }
      ],
      "source": [
        "# mount google drive. data and utils \n",
        "from google.colab import drive\n",
        "drive.mount('/gdrive')\n",
        "%cd /gdrive/My\\ Drive/Coursera/Coursera_DeepLearningSpecialization/course4_coding_assignments/W1A2/"
      ]
    },
    {
      "cell_type": "code",
      "source": [
        "!ls"
      ],
      "metadata": {
        "colab": {
          "base_uri": "https://localhost:8080/"
        },
        "id": "I-UhUWjGCAnT",
        "outputId": "22ea4b80-8713-4eeb-f90d-14aa02e9c4a1"
      },
      "execution_count": 2,
      "outputs": [
        {
          "output_type": "stream",
          "name": "stdout",
          "text": [
            "C4WK1A2_CNN_application_Keras.ipynb    datasets\t\ttest_utils.py\n",
            "C4WK1A2_CNN_application_PyTorch.ipynb  images\t\tW1A2_CNN_structure.png\n",
            "cnn_utils.py\t\t\t       public_tests.py\n",
            "Convolution_model_Application.ipynb    __pycache__\n"
          ]
        }
      ]
    },
    {
      "cell_type": "code",
      "source": [
        "import math \n",
        "import numpy as np\n",
        "import matplotlib.pyplot as plt \n",
        "from matplotlib.pyplot import imread \n",
        "import scipy\n",
        "from PIL import Image \n",
        "import pandas as pd \n",
        "import tensorflow as tf\n",
        "import tensorflow.keras.layers as tfl\n",
        "from tensorflow.python.framework import ops\n",
        "from cnn_utils import * \n",
        "from test_utils import summary, comparator"
      ],
      "metadata": {
        "id": "UAgogj97CGqu"
      },
      "execution_count": 3,
      "outputs": []
    },
    {
      "cell_type": "code",
      "source": [
        "tf.__version__"
      ],
      "metadata": {
        "colab": {
          "base_uri": "https://localhost:8080/",
          "height": 35
        },
        "id": "ePXPdPXyC0Yi",
        "outputId": "f20d60f0-8df9-41b8-b43e-051230ca8ef8"
      },
      "execution_count": 4,
      "outputs": [
        {
          "output_type": "execute_result",
          "data": {
            "text/plain": [
              "'2.11.0'"
            ],
            "application/vnd.google.colaboratory.intrinsic+json": {
              "type": "string"
            }
          },
          "metadata": {},
          "execution_count": 4
        }
      ]
    },
    {
      "cell_type": "code",
      "source": [
        "# load dataset\n",
        "X_train_orig, Y_train_orig, X_test_orig, Y_test_orig, classes = load_happy_dataset()\n",
        "\n",
        "# Normalize image vectors \n",
        "X_train = X_train_orig / 255.\n",
        "X_test = X_test_orig / 255. \n",
        "\n",
        "# Reshape \n",
        "Y_train = Y_train_orig.T\n",
        "Y_test = Y_test_orig.T \n",
        "\n",
        "print (\"number of training examples = \" + str(X_train.shape[0]))\n",
        "print (\"number of test examples = \" + str(X_test.shape[0]))\n",
        "print (\"X_train shape: \" + str(X_train.shape))\n",
        "print (\"Y_train shape: \" + str(Y_train.shape))\n",
        "print (\"X_test shape: \" + str(X_test.shape))\n",
        "print (\"Y_test shape: \" + str(Y_test.shape))\n",
        "print(f\"number of classes: {len(classes)} {classes}\")"
      ],
      "metadata": {
        "colab": {
          "base_uri": "https://localhost:8080/"
        },
        "id": "x6sOaCAzC0uF",
        "outputId": "df4380fe-91b3-4968-ab73-bda8007be07c"
      },
      "execution_count": 5,
      "outputs": [
        {
          "output_type": "stream",
          "name": "stdout",
          "text": [
            "number of training examples = 600\n",
            "number of test examples = 150\n",
            "X_train shape: (600, 64, 64, 3)\n",
            "Y_train shape: (600, 1)\n",
            "X_test shape: (150, 64, 64, 3)\n",
            "Y_test shape: (150, 1)\n",
            "number of classes: 2 [0 1]\n"
          ]
        }
      ]
    },
    {
      "cell_type": "code",
      "source": [
        "index = 12\n",
        "plt.imshow(X_train_orig[index])\n",
        "plt.show()"
      ],
      "metadata": {
        "colab": {
          "base_uri": "https://localhost:8080/",
          "height": 268
        },
        "id": "A09g83emEu9m",
        "outputId": "074691c5-5e69-459c-a803-f16d6c46bb4e"
      },
      "execution_count": 6,
      "outputs": [
        {
          "output_type": "display_data",
          "data": {
            "text/plain": [
              "<Figure size 432x288 with 1 Axes>"
            ],
            "image/png": "[encoded data removed]"
          },
          "metadata": {
            "needs_background": "light"
          }
        }
      ]
    },
    {
      "cell_type": "markdown",
      "source": [
        "## Sequential Model\n",
        "\n",
        "Sequential API is ideal for building models where each layer has exactly one input tensor and one output tensor. It's only appropriate for simple, straightforward tasks. "
      ],
      "metadata": {
        "id": "etKs1wVHJUTW"
      }
    },
    {
      "cell_type": "code",
      "source": [
        "def happyModel():\n",
        "  \"\"\"\n",
        "  Returns: \n",
        "  TF Keras model \n",
        "  \"\"\"\n",
        "\n",
        "  model = tf.keras.Sequential([\n",
        "                               tf.keras.layers.ZeroPadding2D(padding=(3,3), input_shape=(64,64,3), data_format='channels_last'),\n",
        "                               tf.keras.layers.Conv2D(filters=32, kernel_size=(7,7), strides=1),\n",
        "                               tf.keras.layers.BatchNormalization(axis=3),\n",
        "                               tf.keras.layers.ReLU(),\n",
        "                               tf.keras.layers.MaxPool2D(),\n",
        "                               tf.keras.layers.Flatten(),\n",
        "                               tf.keras.layers.Dense(units=1, activation='sigmoid')\n",
        "  ])\n",
        "  return model"
      ],
      "metadata": {
        "id": "nvdLI0o7E7cm"
      },
      "execution_count": 7,
      "outputs": []
    },
    {
      "cell_type": "code",
      "source": [
        "happy_model = happyModel()\n",
        "for layer in summary(happy_model):\n",
        "  print(layer)"
      ],
      "metadata": {
        "colab": {
          "base_uri": "https://localhost:8080/"
        },
        "id": "omgc6ZkZM5DW",
        "outputId": "a16bb24a-d2cd-4927-9cd1-35d1ed822efb"
      },
      "execution_count": 8,
      "outputs": [
        {
          "output_type": "stream",
          "name": "stdout",
          "text": [
            "['ZeroPadding2D', (None, 70, 70, 3), 0, ((3, 3), (3, 3))]\n",
            "['Conv2D', (None, 64, 64, 32), 4736, 'valid', 'linear', 'GlorotUniform']\n",
            "['BatchNormalization', (None, 64, 64, 32), 128]\n",
            "['ReLU', (None, 64, 64, 32), 0]\n",
            "['MaxPooling2D', (None, 32, 32, 32), 0, (2, 2), (2, 2), 'valid']\n",
            "['Flatten', (None, 32768), 0]\n",
            "['Dense', (None, 1), 32769, 'sigmoid']\n"
          ]
        }
      ]
    },
    {
      "cell_type": "code",
      "source": [
        "happy_model.compile(optimizer='adam', loss='binary_crossentropy',metrics=['accuracy'])"
      ],
      "metadata": {
        "id": "dzhCJZn8NLzE"
      },
      "execution_count": 9,
      "outputs": []
    },
    {
      "cell_type": "code",
      "source": [
        "happy_model.summary()"
      ],
      "metadata": {
        "colab": {
          "base_uri": "https://localhost:8080/"
        },
        "id": "atbua8xyNfAg",
        "outputId": "66ba7a50-b301-473c-e3b9-b675793e62f5"
      },
      "execution_count": 10,
      "outputs": [
        {
          "output_type": "stream",
          "name": "stdout",
          "text": [
            "Model: \"sequential\"\n",
            "_________________________________________________________________\n",
            " Layer (type)                Output Shape              Param #   \n",
            "=================================================================\n",
            " zero_padding2d (ZeroPadding  (None, 70, 70, 3)        0         \n",
            " 2D)                                                             \n",
            "                                                                 \n",
            " conv2d (Conv2D)             (None, 64, 64, 32)        4736      \n",
            "                                                                 \n",
            " batch_normalization (BatchN  (None, 64, 64, 32)       128       \n",
            " ormalization)                                                   \n",
            "                                                                 \n",
            " re_lu (ReLU)                (None, 64, 64, 32)        0         \n",
            "                                                                 \n",
            " max_pooling2d (MaxPooling2D  (None, 32, 32, 32)       0         \n",
            " )                                                               \n",
            "                                                                 \n",
            " flatten (Flatten)           (None, 32768)             0         \n",
            "                                                                 \n",
            " dense (Dense)               (None, 1)                 32769     \n",
            "                                                                 \n",
            "=================================================================\n",
            "Total params: 37,633\n",
            "Trainable params: 37,569\n",
            "Non-trainable params: 64\n",
            "_________________________________________________________________\n"
          ]
        }
      ]
    },
    {
      "cell_type": "code",
      "source": [
        "happy_model.fit(X_train, Y_train, epochs = 10, batch_size = 16)"
      ],
      "metadata": {
        "colab": {
          "base_uri": "https://localhost:8080/"
        },
        "id": "TL2mmxXtNhmP",
        "outputId": "af20305e-aef8-4009-be20-7ca8796939f9"
      },
      "execution_count": 11,
      "outputs": [
        {
          "output_type": "stream",
          "name": "stdout",
          "text": [
            "Epoch 1/10\n",
            "38/38 [==============================] - 7s 127ms/step - loss: 0.9047 - accuracy: 0.7567\n",
            "Epoch 2/10\n",
            "38/38 [==============================] - 5s 129ms/step - loss: 0.2251 - accuracy: 0.9133\n",
            "Epoch 3/10\n",
            "38/38 [==============================] - 7s 176ms/step - loss: 0.1291 - accuracy: 0.9483\n",
            "Epoch 4/10\n",
            "38/38 [==============================] - 5s 122ms/step - loss: 0.1057 - accuracy: 0.9567\n",
            "Epoch 5/10\n",
            "38/38 [==============================] - 6s 165ms/step - loss: 0.1917 - accuracy: 0.9333\n",
            "Epoch 6/10\n",
            "38/38 [==============================] - 5s 142ms/step - loss: 0.0790 - accuracy: 0.9767\n",
            "Epoch 7/10\n",
            "38/38 [==============================] - 5s 122ms/step - loss: 0.1178 - accuracy: 0.9550\n",
            "Epoch 8/10\n",
            "38/38 [==============================] - 7s 183ms/step - loss: 0.2065 - accuracy: 0.9400\n",
            "Epoch 9/10\n",
            "38/38 [==============================] - 5s 122ms/step - loss: 0.0707 - accuracy: 0.9767\n",
            "Epoch 10/10\n",
            "38/38 [==============================] - 5s 124ms/step - loss: 0.1561 - accuracy: 0.9400\n"
          ]
        },
        {
          "output_type": "execute_result",
          "data": {
            "text/plain": [
              "<keras.callbacks.History at 0x7f79edc3e2e0>"
            ]
          },
          "metadata": {},
          "execution_count": 11
        }
      ]
    },
    {
      "cell_type": "code",
      "source": [
        "happy_model.evaluate(X_test, Y_test)"
      ],
      "metadata": {
        "colab": {
          "base_uri": "https://localhost:8080/"
        },
        "id": "cBS6lmEhNptK",
        "outputId": "bb70f9c7-10b8-47cd-f74c-388db3a5bbca"
      },
      "execution_count": 12,
      "outputs": [
        {
          "output_type": "stream",
          "name": "stdout",
          "text": [
            "5/5 [==============================] - 1s 65ms/step - loss: 0.5702 - accuracy: 0.8000\n"
          ]
        },
        {
          "output_type": "execute_result",
          "data": {
            "text/plain": [
              "[0.5701653957366943, 0.800000011920929]"
            ]
          },
          "metadata": {},
          "execution_count": 12
        }
      ]
    },
    {
      "cell_type": "markdown",
      "source": [
        "## Functional API\n",
        "\n",
        "Functional API can handle models with non-linear topology, shared layers, and layers with multiple inputs or outputs. \n"
      ],
      "metadata": {
        "id": "Lp1jwSvhPZ81"
      }
    },
    {
      "cell_type": "code",
      "source": [
        "X_train_orig, Y_train_orig, X_test_orig, Y_test_orig, classes = load_signs_dataset()"
      ],
      "metadata": {
        "id": "DpBmA630Oclo"
      },
      "execution_count": 13,
      "outputs": []
    },
    {
      "cell_type": "code",
      "source": [
        "index = 13\n",
        "plt.imshow(X_train_orig[index])\n",
        "print(f\"y = {np.squeeze(Y_train_orig[:, index])}\")"
      ],
      "metadata": {
        "colab": {
          "base_uri": "https://localhost:8080/",
          "height": 285
        },
        "id": "Uxvm6ayyRX39",
        "outputId": "2e65a936-f273-46b2-bd0d-3f92692670eb"
      },
      "execution_count": 14,
      "outputs": [
        {
          "output_type": "stream",
          "name": "stdout",
          "text": [
            "y = 5\n"
          ]
        },
        {
          "output_type": "display_data",
          "data": {
            "text/plain": [
              "<Figure size 432x288 with 1 Axes>"
            ],
            "image/png": "[encoded data removed]"
          },
          "metadata": {
            "needs_background": "light"
          }
        }
      ]
    },
    {
      "cell_type": "code",
      "source": [
        "X_train = X_train_orig/255.\n",
        "X_test = X_test_orig/255.\n",
        "Y_train = convert_to_one_hot(Y_train_orig, 6).T\n",
        "Y_test = convert_to_one_hot(Y_test_orig, 6).T\n",
        "print (\"number of training examples = \" + str(X_train.shape[0]))\n",
        "print (\"number of test examples = \" + str(X_test.shape[0]))\n",
        "print (\"X_train shape: \" + str(X_train.shape))\n",
        "print (\"Y_train shape: \" + str(Y_train.shape))\n",
        "print (\"X_test shape: \" + str(X_test.shape))\n",
        "print (\"Y_test shape: \" + str(Y_test.shape))"
      ],
      "metadata": {
        "colab": {
          "base_uri": "https://localhost:8080/"
        },
        "id": "nzbB7An0T9IT",
        "outputId": "85eefec6-dabb-443a-d910-e38bc18c38c3"
      },
      "execution_count": 15,
      "outputs": [
        {
          "output_type": "stream",
          "name": "stdout",
          "text": [
            "number of training examples = 1080\n",
            "number of test examples = 120\n",
            "X_train shape: (1080, 64, 64, 3)\n",
            "Y_train shape: (1080, 6)\n",
            "X_test shape: (120, 64, 64, 3)\n",
            "Y_test shape: (120, 6)\n"
          ]
        }
      ]
    },
    {
      "cell_type": "markdown",
      "source": [
        "Conv_model\n",
        "- Conv2D: 4 * 4 filter * 8 + padding = \"same\"\n",
        "- ReLU\n",
        "- MaxPool2D: 8 * 8 filter + 8 * 8 stride + padding = \"same\"\n",
        "- Conv2D: 2 * 2 filter * 16 + stride = 1 + padding = \"same\"\n",
        "- ReLU\n",
        "- MaxPool2D: 4 * 4 filter + 4 * 4 stride + padding = \"same\"\n",
        "- Flatten\n",
        "- Full-connected (Dense): 6 neurons + softmax"
      ],
      "metadata": {
        "id": "bnkvrkDZVWDw"
      }
    },
    {
      "cell_type": "code",
      "source": [
        "def convolutional_model(input_shape):\n",
        "  \"\"\"\n",
        "  Returns: model\n",
        "  \"\"\"\n",
        "  input_img = tf.keras.Input(shape=input_shape)\n",
        "  Z1 = tf.keras.layers.Conv2D(filters=8, kernel_size=(4,4), padding=\"same\")(input_img)\n",
        "  A1 = tf.keras.layers.ReLU()(Z1)\n",
        "  P1 = tf.keras.layers.MaxPool2D(pool_size=(8,8), strides=(8,8), padding=\"same\")(A1)\n",
        "  Z2 = tf.keras.layers.Conv2D(filters=16, kernel_size=(2,2), padding=\"same\")(P1)\n",
        "  A2 = tf.keras.layers.ReLU()(Z2)\n",
        "  P2 = tf.keras.layers.MaxPool2D(pool_size=(4,4), strides=(4,4), padding=\"same\")(A2)\n",
        "  F = tf.keras.layers.Flatten()(P2)\n",
        "  outputs = tf.keras.layers.Dense(units=6, activation='softmax')(F)\n",
        "\n",
        "  model = tf.keras.Model(inputs=input_img, outputs = outputs)\n",
        "  return model"
      ],
      "metadata": {
        "id": "bpJZ-HG9UCGz"
      },
      "execution_count": 16,
      "outputs": []
    },
    {
      "cell_type": "code",
      "source": [
        "conv_model = convolutional_model((64,64,3))\n",
        "conv_model.compile(optimizer='adam',\n",
        "                  loss='categorical_crossentropy',\n",
        "                  metrics=['accuracy'])\n",
        "conv_model.summary()"
      ],
      "metadata": {
        "colab": {
          "base_uri": "https://localhost:8080/"
        },
        "id": "m4x2LyAtWDaB",
        "outputId": "aaff6533-0a3a-4da9-bc00-6a25ffcde957"
      },
      "execution_count": 18,
      "outputs": [
        {
          "output_type": "stream",
          "name": "stdout",
          "text": [
            "Model: \"model_1\"\n",
            "_________________________________________________________________\n",
            " Layer (type)                Output Shape              Param #   \n",
            "=================================================================\n",
            " input_2 (InputLayer)        [(None, 64, 64, 3)]       0         \n",
            "                                                                 \n",
            " conv2d_3 (Conv2D)           (None, 64, 64, 8)         392       \n",
            "                                                                 \n",
            " re_lu_3 (ReLU)              (None, 64, 64, 8)         0         \n",
            "                                                                 \n",
            " max_pooling2d_3 (MaxPooling  (None, 8, 8, 8)          0         \n",
            " 2D)                                                             \n",
            "                                                                 \n",
            " conv2d_4 (Conv2D)           (None, 8, 8, 16)          528       \n",
            "                                                                 \n",
            " re_lu_4 (ReLU)              (None, 8, 8, 16)          0         \n",
            "                                                                 \n",
            " max_pooling2d_4 (MaxPooling  (None, 2, 2, 16)         0         \n",
            " 2D)                                                             \n",
            "                                                                 \n",
            " flatten_2 (Flatten)         (None, 64)                0         \n",
            "                                                                 \n",
            " dense_2 (Dense)             (None, 6)                 390       \n",
            "                                                                 \n",
            "=================================================================\n",
            "Total params: 1,310\n",
            "Trainable params: 1,310\n",
            "Non-trainable params: 0\n",
            "_________________________________________________________________\n"
          ]
        }
      ]
    },
    {
      "cell_type": "code",
      "source": [
        "train_dataset = tf.data.Dataset.from_tensor_slices((X_train, Y_train)).batch(64)\n",
        "test_dataset = tf.data.Dataset.from_tensor_slices((X_test, Y_test)).batch(64)\n",
        "history = conv_model.fit(train_dataset, epochs = 100, validation_data = test_dataset)"
      ],
      "metadata": {
        "colab": {
          "base_uri": "https://localhost:8080/"
        },
        "id": "85XaQj2iXCk3",
        "outputId": "212ffc3d-47dc-4df3-8d5d-cd0e173e93fa"
      },
      "execution_count": 19,
      "outputs": [
        {
          "output_type": "stream",
          "name": "stdout",
          "text": [
            "Epoch 1/100\n",
            "17/17 [==============================] - 3s 136ms/step - loss: 1.7971 - accuracy: 0.1778 - val_loss: 1.7872 - val_accuracy: 0.1750\n",
            "Epoch 2/100\n",
            "17/17 [==============================] - 2s 133ms/step - loss: 1.7752 - accuracy: 0.2269 - val_loss: 1.7804 - val_accuracy: 0.1667\n",
            "Epoch 3/100\n",
            "17/17 [==============================] - 2s 148ms/step - loss: 1.7668 - accuracy: 0.2694 - val_loss: 1.7737 - val_accuracy: 0.2667\n",
            "Epoch 4/100\n",
            "17/17 [==============================] - 4s 228ms/step - loss: 1.7570 - accuracy: 0.3157 - val_loss: 1.7673 - val_accuracy: 0.2750\n",
            "Epoch 5/100\n",
            "17/17 [==============================] - 2s 128ms/step - loss: 1.7480 - accuracy: 0.3194 - val_loss: 1.7607 - val_accuracy: 0.2833\n",
            "Epoch 6/100\n",
            "17/17 [==============================] - 2s 123ms/step - loss: 1.7352 - accuracy: 0.3380 - val_loss: 1.7483 - val_accuracy: 0.3000\n",
            "Epoch 7/100\n",
            "17/17 [==============================] - 2s 129ms/step - loss: 1.7142 - accuracy: 0.3704 - val_loss: 1.7308 - val_accuracy: 0.2833\n",
            "Epoch 8/100\n",
            "17/17 [==============================] - 2s 130ms/step - loss: 1.6877 - accuracy: 0.3889 - val_loss: 1.7074 - val_accuracy: 0.3083\n",
            "Epoch 9/100\n",
            "17/17 [==============================] - 3s 177ms/step - loss: 1.6539 - accuracy: 0.3954 - val_loss: 1.6790 - val_accuracy: 0.3167\n",
            "Epoch 10/100\n",
            "17/17 [==============================] - 2s 124ms/step - loss: 1.6123 - accuracy: 0.4157 - val_loss: 1.6475 - val_accuracy: 0.3083\n",
            "Epoch 11/100\n",
            "17/17 [==============================] - 2s 128ms/step - loss: 1.5683 - accuracy: 0.4324 - val_loss: 1.6132 - val_accuracy: 0.3167\n",
            "Epoch 12/100\n",
            "17/17 [==============================] - 2s 127ms/step - loss: 1.5212 - accuracy: 0.4546 - val_loss: 1.5750 - val_accuracy: 0.3333\n",
            "Epoch 13/100\n",
            "17/17 [==============================] - 2s 124ms/step - loss: 1.4726 - accuracy: 0.4833 - val_loss: 1.5378 - val_accuracy: 0.3333\n",
            "Epoch 14/100\n",
            "17/17 [==============================] - 4s 221ms/step - loss: 1.4223 - accuracy: 0.5139 - val_loss: 1.4893 - val_accuracy: 0.3917\n",
            "Epoch 15/100\n",
            "17/17 [==============================] - 3s 205ms/step - loss: 1.3725 - accuracy: 0.5417 - val_loss: 1.4424 - val_accuracy: 0.4250\n",
            "Epoch 16/100\n",
            "17/17 [==============================] - 2s 127ms/step - loss: 1.3263 - accuracy: 0.5611 - val_loss: 1.3965 - val_accuracy: 0.4500\n",
            "Epoch 17/100\n",
            "17/17 [==============================] - 2s 128ms/step - loss: 1.2831 - accuracy: 0.5685 - val_loss: 1.3536 - val_accuracy: 0.4750\n",
            "Epoch 18/100\n",
            "17/17 [==============================] - 4s 229ms/step - loss: 1.2410 - accuracy: 0.5769 - val_loss: 1.3091 - val_accuracy: 0.5000\n",
            "Epoch 19/100\n",
            "17/17 [==============================] - 2s 126ms/step - loss: 1.2011 - accuracy: 0.5889 - val_loss: 1.2644 - val_accuracy: 0.5167\n",
            "Epoch 20/100\n",
            "17/17 [==============================] - 2s 125ms/step - loss: 1.1631 - accuracy: 0.5991 - val_loss: 1.2247 - val_accuracy: 0.5250\n",
            "Epoch 21/100\n",
            "17/17 [==============================] - 2s 128ms/step - loss: 1.1256 - accuracy: 0.6102 - val_loss: 1.1835 - val_accuracy: 0.5417\n",
            "Epoch 22/100\n",
            "17/17 [==============================] - 2s 138ms/step - loss: 1.0913 - accuracy: 0.6231 - val_loss: 1.1474 - val_accuracy: 0.5583\n",
            "Epoch 23/100\n",
            "17/17 [==============================] - 4s 221ms/step - loss: 1.0586 - accuracy: 0.6315 - val_loss: 1.1136 - val_accuracy: 0.5667\n",
            "Epoch 24/100\n",
            "17/17 [==============================] - 3s 145ms/step - loss: 1.0270 - accuracy: 0.6417 - val_loss: 1.0791 - val_accuracy: 0.5667\n",
            "Epoch 25/100\n",
            "17/17 [==============================] - 2s 128ms/step - loss: 0.9981 - accuracy: 0.6537 - val_loss: 1.0489 - val_accuracy: 0.5750\n",
            "Epoch 26/100\n",
            "17/17 [==============================] - 2s 126ms/step - loss: 0.9702 - accuracy: 0.6713 - val_loss: 1.0198 - val_accuracy: 0.5833\n",
            "Epoch 27/100\n",
            "17/17 [==============================] - 2s 128ms/step - loss: 0.9432 - accuracy: 0.6824 - val_loss: 0.9909 - val_accuracy: 0.6250\n",
            "Epoch 28/100\n",
            "17/17 [==============================] - 3s 170ms/step - loss: 0.9179 - accuracy: 0.6944 - val_loss: 0.9633 - val_accuracy: 0.6250\n",
            "Epoch 29/100\n",
            "17/17 [==============================] - 4s 209ms/step - loss: 0.8942 - accuracy: 0.7000 - val_loss: 0.9363 - val_accuracy: 0.6417\n",
            "Epoch 30/100\n",
            "17/17 [==============================] - 2s 124ms/step - loss: 0.8705 - accuracy: 0.7120 - val_loss: 0.9097 - val_accuracy: 0.6667\n",
            "Epoch 31/100\n",
            "17/17 [==============================] - 2s 127ms/step - loss: 0.8475 - accuracy: 0.7185 - val_loss: 0.8840 - val_accuracy: 0.6583\n",
            "Epoch 32/100\n",
            "17/17 [==============================] - 2s 129ms/step - loss: 0.8254 - accuracy: 0.7241 - val_loss: 0.8600 - val_accuracy: 0.6667\n",
            "Epoch 33/100\n",
            "17/17 [==============================] - 3s 200ms/step - loss: 0.8037 - accuracy: 0.7389 - val_loss: 0.8369 - val_accuracy: 0.6917\n",
            "Epoch 34/100\n",
            "17/17 [==============================] - 2s 122ms/step - loss: 0.7834 - accuracy: 0.7435 - val_loss: 0.8161 - val_accuracy: 0.7083\n",
            "Epoch 35/100\n",
            "17/17 [==============================] - 2s 123ms/step - loss: 0.7641 - accuracy: 0.7500 - val_loss: 0.7958 - val_accuracy: 0.7417\n",
            "Epoch 36/100\n",
            "17/17 [==============================] - 2s 124ms/step - loss: 0.7453 - accuracy: 0.7565 - val_loss: 0.7768 - val_accuracy: 0.7500\n",
            "Epoch 37/100\n",
            "17/17 [==============================] - 2s 129ms/step - loss: 0.7274 - accuracy: 0.7657 - val_loss: 0.7589 - val_accuracy: 0.7583\n",
            "Epoch 38/100\n",
            "17/17 [==============================] - 3s 207ms/step - loss: 0.7100 - accuracy: 0.7741 - val_loss: 0.7414 - val_accuracy: 0.7583\n",
            "Epoch 39/100\n",
            "17/17 [==============================] - 2s 129ms/step - loss: 0.6934 - accuracy: 0.7843 - val_loss: 0.7245 - val_accuracy: 0.7750\n",
            "Epoch 40/100\n",
            "17/17 [==============================] - 2s 129ms/step - loss: 0.6776 - accuracy: 0.7889 - val_loss: 0.7086 - val_accuracy: 0.7667\n",
            "Epoch 41/100\n",
            "17/17 [==============================] - 2s 130ms/step - loss: 0.6628 - accuracy: 0.7917 - val_loss: 0.6933 - val_accuracy: 0.7667\n",
            "Epoch 42/100\n",
            "17/17 [==============================] - 2s 133ms/step - loss: 0.6482 - accuracy: 0.7972 - val_loss: 0.6787 - val_accuracy: 0.7750\n",
            "Epoch 43/100\n",
            "17/17 [==============================] - 4s 218ms/step - loss: 0.6347 - accuracy: 0.8019 - val_loss: 0.6650 - val_accuracy: 0.7750\n",
            "Epoch 44/100\n",
            "17/17 [==============================] - 2s 135ms/step - loss: 0.6218 - accuracy: 0.8102 - val_loss: 0.6519 - val_accuracy: 0.7750\n",
            "Epoch 45/100\n",
            "17/17 [==============================] - 2s 129ms/step - loss: 0.6094 - accuracy: 0.8157 - val_loss: 0.6387 - val_accuracy: 0.7917\n",
            "Epoch 46/100\n",
            "17/17 [==============================] - 2s 126ms/step - loss: 0.5971 - accuracy: 0.8194 - val_loss: 0.6271 - val_accuracy: 0.7833\n",
            "Epoch 47/100\n",
            "17/17 [==============================] - 2s 129ms/step - loss: 0.5852 - accuracy: 0.8278 - val_loss: 0.6150 - val_accuracy: 0.7917\n",
            "Epoch 48/100\n",
            "17/17 [==============================] - 3s 176ms/step - loss: 0.5738 - accuracy: 0.8324 - val_loss: 0.6045 - val_accuracy: 0.8000\n",
            "Epoch 49/100\n",
            "17/17 [==============================] - 3s 202ms/step - loss: 0.5630 - accuracy: 0.8361 - val_loss: 0.5935 - val_accuracy: 0.8000\n",
            "Epoch 50/100\n",
            "17/17 [==============================] - 2s 125ms/step - loss: 0.5528 - accuracy: 0.8407 - val_loss: 0.5835 - val_accuracy: 0.8000\n",
            "Epoch 51/100\n",
            "17/17 [==============================] - 2s 125ms/step - loss: 0.5431 - accuracy: 0.8426 - val_loss: 0.5738 - val_accuracy: 0.8000\n",
            "Epoch 52/100\n",
            "17/17 [==============================] - 2s 127ms/step - loss: 0.5335 - accuracy: 0.8463 - val_loss: 0.5640 - val_accuracy: 0.8083\n",
            "Epoch 53/100\n",
            "17/17 [==============================] - 3s 181ms/step - loss: 0.5244 - accuracy: 0.8491 - val_loss: 0.5545 - val_accuracy: 0.8083\n",
            "Epoch 54/100\n",
            "17/17 [==============================] - 2s 126ms/step - loss: 0.5156 - accuracy: 0.8500 - val_loss: 0.5454 - val_accuracy: 0.8083\n",
            "Epoch 55/100\n",
            "17/17 [==============================] - 2s 129ms/step - loss: 0.5073 - accuracy: 0.8546 - val_loss: 0.5369 - val_accuracy: 0.8083\n",
            "Epoch 56/100\n",
            "17/17 [==============================] - 2s 126ms/step - loss: 0.4994 - accuracy: 0.8537 - val_loss: 0.5288 - val_accuracy: 0.8083\n",
            "Epoch 57/100\n",
            "17/17 [==============================] - 2s 125ms/step - loss: 0.4919 - accuracy: 0.8556 - val_loss: 0.5205 - val_accuracy: 0.8167\n",
            "Epoch 58/100\n",
            "17/17 [==============================] - 3s 199ms/step - loss: 0.4845 - accuracy: 0.8574 - val_loss: 0.5132 - val_accuracy: 0.8250\n",
            "Epoch 59/100\n",
            "17/17 [==============================] - 3s 181ms/step - loss: 0.4771 - accuracy: 0.8602 - val_loss: 0.5059 - val_accuracy: 0.8333\n",
            "Epoch 60/100\n",
            "17/17 [==============================] - 2s 130ms/step - loss: 0.4705 - accuracy: 0.8611 - val_loss: 0.4990 - val_accuracy: 0.8333\n",
            "Epoch 61/100\n",
            "17/17 [==============================] - 2s 129ms/step - loss: 0.4639 - accuracy: 0.8648 - val_loss: 0.4927 - val_accuracy: 0.8333\n",
            "Epoch 62/100\n",
            "17/17 [==============================] - 2s 127ms/step - loss: 0.4575 - accuracy: 0.8657 - val_loss: 0.4872 - val_accuracy: 0.8333\n",
            "Epoch 63/100\n",
            "17/17 [==============================] - 4s 225ms/step - loss: 0.4518 - accuracy: 0.8685 - val_loss: 0.4809 - val_accuracy: 0.8333\n",
            "Epoch 64/100\n",
            "17/17 [==============================] - 2s 124ms/step - loss: 0.4461 - accuracy: 0.8676 - val_loss: 0.4761 - val_accuracy: 0.8333\n",
            "Epoch 65/100\n",
            "17/17 [==============================] - 2s 129ms/step - loss: 0.4401 - accuracy: 0.8704 - val_loss: 0.4696 - val_accuracy: 0.8333\n",
            "Epoch 66/100\n",
            "17/17 [==============================] - 2s 125ms/step - loss: 0.4347 - accuracy: 0.8704 - val_loss: 0.4648 - val_accuracy: 0.8333\n",
            "Epoch 67/100\n",
            "17/17 [==============================] - 2s 128ms/step - loss: 0.4295 - accuracy: 0.8750 - val_loss: 0.4594 - val_accuracy: 0.8333\n",
            "Epoch 68/100\n",
            "17/17 [==============================] - 4s 220ms/step - loss: 0.4243 - accuracy: 0.8778 - val_loss: 0.4550 - val_accuracy: 0.8333\n",
            "Epoch 69/100\n",
            "17/17 [==============================] - 2s 133ms/step - loss: 0.4197 - accuracy: 0.8796 - val_loss: 0.4497 - val_accuracy: 0.8417\n",
            "Epoch 70/100\n",
            "17/17 [==============================] - 2s 128ms/step - loss: 0.4145 - accuracy: 0.8787 - val_loss: 0.4453 - val_accuracy: 0.8417\n",
            "Epoch 71/100\n",
            "17/17 [==============================] - 2s 124ms/step - loss: 0.4093 - accuracy: 0.8806 - val_loss: 0.4407 - val_accuracy: 0.8500\n",
            "Epoch 72/100\n",
            "17/17 [==============================] - 2s 130ms/step - loss: 0.4048 - accuracy: 0.8806 - val_loss: 0.4359 - val_accuracy: 0.8500\n",
            "Epoch 73/100\n",
            "17/17 [==============================] - 3s 198ms/step - loss: 0.4002 - accuracy: 0.8824 - val_loss: 0.4315 - val_accuracy: 0.8500\n",
            "Epoch 74/100\n",
            "17/17 [==============================] - 4s 209ms/step - loss: 0.3955 - accuracy: 0.8852 - val_loss: 0.4276 - val_accuracy: 0.8500\n",
            "Epoch 75/100\n",
            "17/17 [==============================] - 2s 124ms/step - loss: 0.3911 - accuracy: 0.8833 - val_loss: 0.4238 - val_accuracy: 0.8500\n",
            "Epoch 76/100\n",
            "17/17 [==============================] - 2s 124ms/step - loss: 0.3870 - accuracy: 0.8833 - val_loss: 0.4200 - val_accuracy: 0.8500\n",
            "Epoch 77/100\n",
            "17/17 [==============================] - 4s 225ms/step - loss: 0.3832 - accuracy: 0.8843 - val_loss: 0.4166 - val_accuracy: 0.8500\n",
            "Epoch 78/100\n",
            "17/17 [==============================] - 2s 125ms/step - loss: 0.3789 - accuracy: 0.8870 - val_loss: 0.4135 - val_accuracy: 0.8500\n",
            "Epoch 79/100\n",
            "17/17 [==============================] - 2s 124ms/step - loss: 0.3751 - accuracy: 0.8861 - val_loss: 0.4099 - val_accuracy: 0.8500\n",
            "Epoch 80/100\n",
            "17/17 [==============================] - 2s 124ms/step - loss: 0.3714 - accuracy: 0.8898 - val_loss: 0.4070 - val_accuracy: 0.8500\n",
            "Epoch 81/100\n",
            "17/17 [==============================] - 3s 167ms/step - loss: 0.3677 - accuracy: 0.8907 - val_loss: 0.4034 - val_accuracy: 0.8500\n",
            "Epoch 82/100\n",
            "17/17 [==============================] - 2s 126ms/step - loss: 0.3640 - accuracy: 0.8926 - val_loss: 0.4003 - val_accuracy: 0.8500\n",
            "Epoch 83/100\n",
            "17/17 [==============================] - 2s 128ms/step - loss: 0.3606 - accuracy: 0.8926 - val_loss: 0.3970 - val_accuracy: 0.8500\n",
            "Epoch 84/100\n",
            "17/17 [==============================] - 2s 129ms/step - loss: 0.3574 - accuracy: 0.8954 - val_loss: 0.3938 - val_accuracy: 0.8500\n",
            "Epoch 85/100\n",
            "17/17 [==============================] - 2s 124ms/step - loss: 0.3543 - accuracy: 0.8954 - val_loss: 0.3905 - val_accuracy: 0.8500\n",
            "Epoch 86/100\n",
            "17/17 [==============================] - 4s 225ms/step - loss: 0.3510 - accuracy: 0.8954 - val_loss: 0.3882 - val_accuracy: 0.8500\n",
            "Epoch 87/100\n",
            "17/17 [==============================] - 2s 128ms/step - loss: 0.3480 - accuracy: 0.8963 - val_loss: 0.3850 - val_accuracy: 0.8500\n",
            "Epoch 88/100\n",
            "17/17 [==============================] - 2s 127ms/step - loss: 0.3446 - accuracy: 0.8972 - val_loss: 0.3826 - val_accuracy: 0.8500\n",
            "Epoch 89/100\n",
            "17/17 [==============================] - 2s 124ms/step - loss: 0.3415 - accuracy: 0.8981 - val_loss: 0.3801 - val_accuracy: 0.8500\n",
            "Epoch 90/100\n",
            "17/17 [==============================] - 2s 132ms/step - loss: 0.3386 - accuracy: 0.8991 - val_loss: 0.3775 - val_accuracy: 0.8417\n",
            "Epoch 91/100\n",
            "17/17 [==============================] - 4s 218ms/step - loss: 0.3355 - accuracy: 0.8991 - val_loss: 0.3750 - val_accuracy: 0.8500\n",
            "Epoch 92/100\n",
            "17/17 [==============================] - 2s 124ms/step - loss: 0.3327 - accuracy: 0.9000 - val_loss: 0.3725 - val_accuracy: 0.8500\n",
            "Epoch 93/100\n",
            "17/17 [==============================] - 2s 125ms/step - loss: 0.3299 - accuracy: 0.9009 - val_loss: 0.3702 - val_accuracy: 0.8583\n",
            "Epoch 94/100\n",
            "17/17 [==============================] - 2s 129ms/step - loss: 0.3269 - accuracy: 0.9009 - val_loss: 0.3672 - val_accuracy: 0.8500\n",
            "Epoch 95/100\n",
            "17/17 [==============================] - 2s 135ms/step - loss: 0.3240 - accuracy: 0.9000 - val_loss: 0.3650 - val_accuracy: 0.8583\n",
            "Epoch 96/100\n",
            "17/17 [==============================] - 4s 227ms/step - loss: 0.3212 - accuracy: 0.9009 - val_loss: 0.3626 - val_accuracy: 0.8583\n",
            "Epoch 97/100\n",
            "17/17 [==============================] - 2s 131ms/step - loss: 0.3186 - accuracy: 0.9028 - val_loss: 0.3605 - val_accuracy: 0.8500\n",
            "Epoch 98/100\n",
            "17/17 [==============================] - 2s 124ms/step - loss: 0.3161 - accuracy: 0.9028 - val_loss: 0.3579 - val_accuracy: 0.8583\n",
            "Epoch 99/100\n",
            "17/17 [==============================] - 2s 125ms/step - loss: 0.3135 - accuracy: 0.9028 - val_loss: 0.3557 - val_accuracy: 0.8583\n",
            "Epoch 100/100\n",
            "17/17 [==============================] - 3s 173ms/step - loss: 0.3109 - accuracy: 0.9037 - val_loss: 0.3535 - val_accuracy: 0.8667\n"
          ]
        }
      ]
    },
    {
      "cell_type": "code",
      "source": [
        "history.history"
      ],
      "metadata": {
        "colab": {
          "base_uri": "https://localhost:8080/"
        },
        "id": "jCkUFndrXxYN",
        "outputId": "aa5b8868-1578-460c-f9e7-afd3dad464f7"
      },
      "execution_count": 20,
      "outputs": [
        {
          "output_type": "execute_result",
          "data": {
            "text/plain": [
              "{'loss': [1.7970823049545288,\n",
              "  1.775236964225769,\n",
              "  1.7668402194976807,\n",
              "  1.7570414543151855,\n",
              "  1.7480438947677612,\n",
              "  1.735154628753662,\n",
              "  1.7141587734222412,\n",
              "  1.6877421140670776,\n",
              "  1.653903841972351,\n",
              "  1.612270474433899,\n",
              "  1.5683495998382568,\n",
              "  1.5212206840515137,\n",
              "  1.472589373588562,\n",
              "  1.4223426580429077,\n",
              "  1.3725197315216064,\n",
              "  1.326338529586792,\n",
              "  1.2831381559371948,\n",
              "  1.240975260734558,\n",
              "  1.2010729312896729,\n",
              "  1.163108468055725,\n",
              "  1.1256370544433594,\n",
              "  1.0912644863128662,\n",
              "  1.058565616607666,\n",
              "  1.0269526243209839,\n",
              "  0.9981207847595215,\n",
              "  0.9702247977256775,\n",
              "  0.9432231783866882,\n",
              "  0.9179144501686096,\n",
              "  0.8941764831542969,\n",
              "  0.8704922199249268,\n",
              "  0.8475461602210999,\n",
              "  0.8253816366195679,\n",
              "  0.80365389585495,\n",
              "  0.7834052443504333,\n",
              "  0.7640787959098816,\n",
              "  0.7452824115753174,\n",
              "  0.7273719310760498,\n",
              "  0.7099511623382568,\n",
              "  0.6933642625808716,\n",
              "  0.6776057481765747,\n",
              "  0.6627607941627502,\n",
              "  0.6481862664222717,\n",
              "  0.6346948146820068,\n",
              "  0.621802806854248,\n",
              "  0.6093968152999878,\n",
              "  0.5970624089241028,\n",
              "  0.5852219462394714,\n",
              "  0.5737836956977844,\n",
              "  0.5629658102989197,\n",
              "  0.5527868270874023,\n",
              "  0.5431178212165833,\n",
              "  0.5335296392440796,\n",
              "  0.5243914127349854,\n",
              "  0.5155674815177917,\n",
              "  0.5073316097259521,\n",
              "  0.4994295537471771,\n",
              "  0.49185696244239807,\n",
              "  0.48448407649993896,\n",
              "  0.4771393835544586,\n",
              "  0.47045713663101196,\n",
              "  0.46388185024261475,\n",
              "  0.45754772424697876,\n",
              "  0.45178720355033875,\n",
              "  0.4460602402687073,\n",
              "  0.4400646686553955,\n",
              "  0.43468254804611206,\n",
              "  0.42950233817100525,\n",
              "  0.42428839206695557,\n",
              "  0.4196920394897461,\n",
              "  0.41448840498924255,\n",
              "  0.4092824459075928,\n",
              "  0.4048166275024414,\n",
              "  0.40016523003578186,\n",
              "  0.3955400884151459,\n",
              "  0.39109835028648376,\n",
              "  0.38701263070106506,\n",
              "  0.3831890821456909,\n",
              "  0.3789006769657135,\n",
              "  0.37511834502220154,\n",
              "  0.37144115567207336,\n",
              "  0.36766517162323,\n",
              "  0.36402925848960876,\n",
              "  0.36061808466911316,\n",
              "  0.3574443757534027,\n",
              "  0.35426193475723267,\n",
              "  0.3509778082370758,\n",
              "  0.347978413105011,\n",
              "  0.34458649158477783,\n",
              "  0.34154897928237915,\n",
              "  0.3386273980140686,\n",
              "  0.3355434238910675,\n",
              "  0.3327328860759735,\n",
              "  0.32990697026252747,\n",
              "  0.32692670822143555,\n",
              "  0.32403382658958435,\n",
              "  0.3212341070175171,\n",
              "  0.31864795088768005,\n",
              "  0.3160756528377533,\n",
              "  0.3134876489639282,\n",
              "  0.3108695149421692],\n",
              " 'accuracy': [0.17777778208255768,\n",
              "  0.22685185074806213,\n",
              "  0.26944443583488464,\n",
              "  0.3157407343387604,\n",
              "  0.3194444477558136,\n",
              "  0.33796295523643494,\n",
              "  0.37037035822868347,\n",
              "  0.3888888955116272,\n",
              "  0.39537036418914795,\n",
              "  0.4157407283782959,\n",
              "  0.432407408952713,\n",
              "  0.4546296298503876,\n",
              "  0.4833333194255829,\n",
              "  0.5138888955116272,\n",
              "  0.5416666865348816,\n",
              "  0.5611110925674438,\n",
              "  0.5685185194015503,\n",
              "  0.5768518447875977,\n",
              "  0.5888888835906982,\n",
              "  0.5990740656852722,\n",
              "  0.6101852059364319,\n",
              "  0.6231481432914734,\n",
              "  0.6314814686775208,\n",
              "  0.6416666507720947,\n",
              "  0.6537036895751953,\n",
              "  0.6712962985038757,\n",
              "  0.6824073791503906,\n",
              "  0.6944444179534912,\n",
              "  0.699999988079071,\n",
              "  0.7120370268821716,\n",
              "  0.7185184955596924,\n",
              "  0.7240740656852722,\n",
              "  0.7388888597488403,\n",
              "  0.7435185313224792,\n",
              "  0.75,\n",
              "  0.7564814686775208,\n",
              "  0.7657407522201538,\n",
              "  0.7740740776062012,\n",
              "  0.7842592597007751,\n",
              "  0.7888888716697693,\n",
              "  0.7916666865348816,\n",
              "  0.7972221970558167,\n",
              "  0.8018518686294556,\n",
              "  0.8101851940155029,\n",
              "  0.8157407641410828,\n",
              "  0.8194444179534912,\n",
              "  0.8277778029441833,\n",
              "  0.8324074149131775,\n",
              "  0.8361111283302307,\n",
              "  0.8407407402992249,\n",
              "  0.8425925970077515,\n",
              "  0.8462963104248047,\n",
              "  0.8490740656852722,\n",
              "  0.8500000238418579,\n",
              "  0.854629635810852,\n",
              "  0.8537036776542664,\n",
              "  0.855555534362793,\n",
              "  0.8574073910713196,\n",
              "  0.8601852059364319,\n",
              "  0.8611111044883728,\n",
              "  0.864814817905426,\n",
              "  0.8657407164573669,\n",
              "  0.8685185313224792,\n",
              "  0.8675925731658936,\n",
              "  0.8703703880310059,\n",
              "  0.8703703880310059,\n",
              "  0.875,\n",
              "  0.8777777552604675,\n",
              "  0.8796296119689941,\n",
              "  0.8787037134170532,\n",
              "  0.8805555701255798,\n",
              "  0.8805555701255798,\n",
              "  0.8824074268341064,\n",
              "  0.885185182094574,\n",
              "  0.8833333253860474,\n",
              "  0.8833333253860474,\n",
              "  0.8842592835426331,\n",
              "  0.8870370388031006,\n",
              "  0.8861111402511597,\n",
              "  0.8898147940635681,\n",
              "  0.8907407522201538,\n",
              "  0.8925926089286804,\n",
              "  0.8925926089286804,\n",
              "  0.895370364189148,\n",
              "  0.895370364189148,\n",
              "  0.895370364189148,\n",
              "  0.8962963223457336,\n",
              "  0.8972222208976746,\n",
              "  0.8981481194496155,\n",
              "  0.8990740776062012,\n",
              "  0.8990740776062012,\n",
              "  0.8999999761581421,\n",
              "  0.9009259343147278,\n",
              "  0.9009259343147278,\n",
              "  0.8999999761581421,\n",
              "  0.9009259343147278,\n",
              "  0.9027777910232544,\n",
              "  0.9027777910232544,\n",
              "  0.9027777910232544,\n",
              "  0.9037036895751953],\n",
              " 'val_loss': [1.7872159481048584,\n",
              "  1.7804032564163208,\n",
              "  1.7736634016036987,\n",
              "  1.767261266708374,\n",
              "  1.7606539726257324,\n",
              "  1.748331069946289,\n",
              "  1.7308075428009033,\n",
              "  1.7074122428894043,\n",
              "  1.679026484489441,\n",
              "  1.6475446224212646,\n",
              "  1.6132155656814575,\n",
              "  1.575021505355835,\n",
              "  1.5377782583236694,\n",
              "  1.489348292350769,\n",
              "  1.4424301385879517,\n",
              "  1.3964728116989136,\n",
              "  1.3535548448562622,\n",
              "  1.3090540170669556,\n",
              "  1.264355182647705,\n",
              "  1.2247109413146973,\n",
              "  1.1834914684295654,\n",
              "  1.1473981142044067,\n",
              "  1.1136399507522583,\n",
              "  1.0791064500808716,\n",
              "  1.0489259958267212,\n",
              "  1.0197944641113281,\n",
              "  0.9909042119979858,\n",
              "  0.9633496403694153,\n",
              "  0.9362556338310242,\n",
              "  0.9096651673316956,\n",
              "  0.8839887976646423,\n",
              "  0.8600490689277649,\n",
              "  0.8369351029396057,\n",
              "  0.8161026239395142,\n",
              "  0.795779287815094,\n",
              "  0.7768422365188599,\n",
              "  0.7588589787483215,\n",
              "  0.7413874268531799,\n",
              "  0.7245188355445862,\n",
              "  0.7085500359535217,\n",
              "  0.6933020353317261,\n",
              "  0.6787140369415283,\n",
              "  0.6649706959724426,\n",
              "  0.6519398093223572,\n",
              "  0.638674795627594,\n",
              "  0.6270809173583984,\n",
              "  0.614990770816803,\n",
              "  0.6044818758964539,\n",
              "  0.5934851169586182,\n",
              "  0.5835046172142029,\n",
              "  0.5737521052360535,\n",
              "  0.5639711618423462,\n",
              "  0.5544849634170532,\n",
              "  0.5454436540603638,\n",
              "  0.5368980169296265,\n",
              "  0.5288192629814148,\n",
              "  0.5204555988311768,\n",
              "  0.5132303833961487,\n",
              "  0.5058803558349609,\n",
              "  0.4990493953227997,\n",
              "  0.492721825838089,\n",
              "  0.4872031509876251,\n",
              "  0.48091834783554077,\n",
              "  0.47605597972869873,\n",
              "  0.4695749282836914,\n",
              "  0.4647650718688965,\n",
              "  0.4594227373600006,\n",
              "  0.45498529076576233,\n",
              "  0.449674516916275,\n",
              "  0.44527143239974976,\n",
              "  0.44067075848579407,\n",
              "  0.43590185046195984,\n",
              "  0.4314669966697693,\n",
              "  0.42756137251853943,\n",
              "  0.4237622618675232,\n",
              "  0.42000848054885864,\n",
              "  0.416554719209671,\n",
              "  0.41352030634880066,\n",
              "  0.40989527106285095,\n",
              "  0.4069601893424988,\n",
              "  0.4033517837524414,\n",
              "  0.40029963850975037,\n",
              "  0.39704105257987976,\n",
              "  0.39382559061050415,\n",
              "  0.3905177414417267,\n",
              "  0.3881746232509613,\n",
              "  0.3850426971912384,\n",
              "  0.3825683891773224,\n",
              "  0.3801158368587494,\n",
              "  0.3775387406349182,\n",
              "  0.3749901354312897,\n",
              "  0.3724932372570038,\n",
              "  0.37019380927085876,\n",
              "  0.36721566319465637,\n",
              "  0.36499977111816406,\n",
              "  0.362625390291214,\n",
              "  0.3604598939418793,\n",
              "  0.35786545276641846,\n",
              "  0.35572415590286255,\n",
              "  0.35345950722694397],\n",
              " 'val_accuracy': [0.17499999701976776,\n",
              "  0.1666666716337204,\n",
              "  0.2666666805744171,\n",
              "  0.2750000059604645,\n",
              "  0.28333333134651184,\n",
              "  0.30000001192092896,\n",
              "  0.28333333134651184,\n",
              "  0.3083333373069763,\n",
              "  0.3166666626930237,\n",
              "  0.3083333373069763,\n",
              "  0.3166666626930237,\n",
              "  0.3333333432674408,\n",
              "  0.3333333432674408,\n",
              "  0.3916666805744171,\n",
              "  0.42500001192092896,\n",
              "  0.44999998807907104,\n",
              "  0.4749999940395355,\n",
              "  0.5,\n",
              "  0.5166666507720947,\n",
              "  0.5249999761581421,\n",
              "  0.5416666865348816,\n",
              "  0.5583333373069763,\n",
              "  0.5666666626930237,\n",
              "  0.5666666626930237,\n",
              "  0.574999988079071,\n",
              "  0.5833333134651184,\n",
              "  0.625,\n",
              "  0.625,\n",
              "  0.6416666507720947,\n",
              "  0.6666666865348816,\n",
              "  0.6583333611488342,\n",
              "  0.6666666865348816,\n",
              "  0.6916666626930237,\n",
              "  0.7083333134651184,\n",
              "  0.7416666746139526,\n",
              "  0.75,\n",
              "  0.7583333253860474,\n",
              "  0.7583333253860474,\n",
              "  0.7749999761581421,\n",
              "  0.7666666507720947,\n",
              "  0.7666666507720947,\n",
              "  0.7749999761581421,\n",
              "  0.7749999761581421,\n",
              "  0.7749999761581421,\n",
              "  0.7916666865348816,\n",
              "  0.7833333611488342,\n",
              "  0.7916666865348816,\n",
              "  0.800000011920929,\n",
              "  0.800000011920929,\n",
              "  0.800000011920929,\n",
              "  0.800000011920929,\n",
              "  0.8083333373069763,\n",
              "  0.8083333373069763,\n",
              "  0.8083333373069763,\n",
              "  0.8083333373069763,\n",
              "  0.8083333373069763,\n",
              "  0.8166666626930237,\n",
              "  0.824999988079071,\n",
              "  0.8333333134651184,\n",
              "  0.8333333134651184,\n",
              "  0.8333333134651184,\n",
              "  0.8333333134651184,\n",
              "  0.8333333134651184,\n",
              "  0.8333333134651184,\n",
              "  0.8333333134651184,\n",
              "  0.8333333134651184,\n",
              "  0.8333333134651184,\n",
              "  0.8333333134651184,\n",
              "  0.8416666388511658,\n",
              "  0.8416666388511658,\n",
              "  0.8500000238418579,\n",
              "  0.8500000238418579,\n",
              "  0.8500000238418579,\n",
              "  0.8500000238418579,\n",
              "  0.8500000238418579,\n",
              "  0.8500000238418579,\n",
              "  0.8500000238418579,\n",
              "  0.8500000238418579,\n",
              "  0.8500000238418579,\n",
              "  0.8500000238418579,\n",
              "  0.8500000238418579,\n",
              "  0.8500000238418579,\n",
              "  0.8500000238418579,\n",
              "  0.8500000238418579,\n",
              "  0.8500000238418579,\n",
              "  0.8500000238418579,\n",
              "  0.8500000238418579,\n",
              "  0.8500000238418579,\n",
              "  0.8500000238418579,\n",
              "  0.8416666388511658,\n",
              "  0.8500000238418579,\n",
              "  0.8500000238418579,\n",
              "  0.8583333492279053,\n",
              "  0.8500000238418579,\n",
              "  0.8583333492279053,\n",
              "  0.8583333492279053,\n",
              "  0.8500000238418579,\n",
              "  0.8583333492279053,\n",
              "  0.8583333492279053,\n",
              "  0.8666666746139526]}"
            ]
          },
          "metadata": {},
          "execution_count": 20
        }
      ]
    },
    {
      "cell_type": "code",
      "source": [
        "# The history.history[\"loss\"] entry is a dictionary with as many values as epochs that the model was trained on. \n",
        "df_loss_acc = pd.DataFrame(history.history)\n",
        "df_loss = df_loss_acc[['loss', 'val_loss']]\n",
        "df_loss.rename(columns={'loss':'train','val_loss':'validation'},inplace=True)\n",
        "df_acc= df_loss_acc[['accuracy','val_accuracy']]\n",
        "df_acc.rename(columns={'accuracy':'train','val_accuracy':'validation'},inplace=True)\n",
        "df_loss.plot(title='Model loss',figsize=(12,8)).set(xlabel='Epoch',ylabel='Loss')\n",
        "df_acc.plot(title='Model Accuracy',figsize=(12,8)).set(xlabel='Epoch',ylabel='Accuracy')"
      ],
      "metadata": {
        "colab": {
          "base_uri": "https://localhost:8080/",
          "height": 1000
        },
        "id": "9YtvcvOgZodJ",
        "outputId": "c82cbd01-7295-48cc-e63f-d912b534c653"
      },
      "execution_count": 21,
      "outputs": [
        {
          "output_type": "stream",
          "name": "stderr",
          "text": [
            "/usr/local/lib/python3.8/dist-packages/pandas/core/frame.py:5039: SettingWithCopyWarning: \n",
            "A value is trying to be set on a copy of a slice from a DataFrame\n",
            "\n",
            "See the caveats in the documentation: https://pandas.pydata.org/pandas-docs/stable/user_guide/indexing.html#returning-a-view-versus-a-copy\n",
            "  return super().rename(\n"
          ]
        },
        {
          "output_type": "execute_result",
          "data": {
            "text/plain": [
              "[Text(0.5, 0, 'Epoch'), Text(0, 0.5, 'Accuracy')]"
            ]
          },
          "metadata": {},
          "execution_count": 21
        },
        {
          "output_type": "display_data",
          "data": {
            "text/plain": [
              "<Figure size 864x576 with 1 Axes>"
            ],
            "image/png": "[encoded data removed]"
          },
          "metadata": {
            "needs_background": "light"
          }
        },
        {
          "output_type": "display_data",
          "data": {
            "text/plain": [
              "<Figure size 864x576 with 1 Axes>"
            ],
            "image/png": "[encoded data removed]"
          },
          "metadata": {
            "needs_background": "light"
          }
        }
      ]
    },
    {
      "cell_type": "code",
      "source": [],
      "metadata": {
        "id": "CnmgtcqwaM5b"
      },
      "execution_count": 21,
      "outputs": []
    }
  ]
}